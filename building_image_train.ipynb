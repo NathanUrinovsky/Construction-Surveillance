{
  "nbformat": 4,
  "nbformat_minor": 0,
  "metadata": {
    "accelerator": "GPU",
    "colab": {
      "name": "building_image_train.ipynb",
      "provenance": [],
      "collapsed_sections": [],
      "machine_shape": "hm",
      "authorship_tag": "ABX9TyNdobOScvByB3A7c4cxSjhx",
      "include_colab_link": true
    },
    "kernelspec": {
      "display_name": "Python 3",
      "name": "python3"
    }
  },
  "cells": [
    {
      "cell_type": "markdown",
      "metadata": {
        "id": "view-in-github",
        "colab_type": "text"
      },
      "source": [
        "<a href=\"https://colab.research.google.com/github/NathanUrinovsky/Final-Project/blob/main/building_image_train.ipynb\" target=\"_parent\"><img src=\"https://colab.research.google.com/assets/colab-badge.svg\" alt=\"Open In Colab\"/></a>"
      ]
    },
    {
      "cell_type": "code",
      "metadata": {
        "id": "DOiFQwKsA8kg"
      },
      "source": [
        "#connecting Google Drive to Colab\n",
        "#this is the code for training only\n",
        "#this project can be run only from Google Colab, \n",
        "#and you must have the dataset in your drive in order to train the model\n",
        "from google.colab import drive\n",
        "drive.mount('/content/gdrive')"
      ],
      "execution_count": null,
      "outputs": []
    },
    {
      "cell_type": "code",
      "metadata": {
        "id": "5JJ8D3Z09VWv"
      },
      "source": [
        "!pip install keras-retinanet"
      ],
      "execution_count": null,
      "outputs": []
    },
    {
      "cell_type": "code",
      "metadata": {
        "id": "d1aKi7Po9bKZ"
      },
      "source": [
        "# show images inline\n",
        "%matplotlib inline\n",
        "\n",
        "# automatically reload modules when they have changed\n",
        "%load_ext autoreload\n",
        "%autoreload 2\n",
        "\n",
        "# import keras\n",
        "from tensorflow import keras\n",
        "\n",
        "# import keras_retinanet\n",
        "from keras_retinanet import models\n",
        "from keras_retinanet.utils.image import read_image_bgr, preprocess_image, resize_image\n",
        "from keras_retinanet.utils.visualization import draw_box, draw_caption\n",
        "from keras_retinanet.utils.colors import label_color\n",
        "from keras_retinanet.utils.gpu import setup_gpu\n",
        "\n",
        "# import miscellaneous modules\n",
        "import matplotlib.pyplot as plt\n",
        "import cv2\n",
        "import os\n",
        "import numpy as np\n",
        "import pathlib\n",
        "import time\n",
        "\n",
        "# use this to change which GPU to use\n",
        "gpu = 0\n",
        "\n",
        "# set the modified tf session as backend in keras\n",
        "\n",
        "setup_gpu(gpu)"
      ],
      "execution_count": null,
      "outputs": []
    },
    {
      "cell_type": "code",
      "metadata": {
        "id": "knTPAi0YYNxG"
      },
      "source": [
        "data_folder = os.getcwd() + \"/data/\"\n",
        "!mkdir {data_folder}"
      ],
      "execution_count": null,
      "outputs": []
    },
    {
      "cell_type": "code",
      "metadata": {
        "id": "_WHqRPDG9de_"
      },
      "source": [
        "# import packages\n",
        "import os\n",
        "import glob\n",
        "import pandas as pd\n",
        "import argparse\n",
        "import xml.etree.ElementTree as ET\n",
        "import random\n",
        "from shutil import copyfile\n",
        "import csv\n",
        "\n",
        "training_images = pathlib.Path('/content/gdrive/My Drive/MachineLearning/training_data/images/')\n",
        "labels = pathlib.Path('/content/gdrive/My Drive/MachineLearning/training_data/labels/')\n",
        "training_images = os.listdir(training_images)\n",
        "training_images_list = []\n",
        "for file in training_images:\n",
        "  copyfile('/content/gdrive/My Drive/MachineLearning/training_data/images/' + file, data_folder + file)\n",
        "  training_images_list.append(data_folder + file)\n",
        "\n",
        "\n",
        "#labels = os.listdir(labels)\n",
        "test_images = []\n",
        "train_csv = \"/content/data/train.csv\"\n",
        "test_csv = \"/content/data/test.csv\"\n",
        "classes_csv = \"/content/data/classes.csv\""
      ],
      "execution_count": null,
      "outputs": []
    },
    {
      "cell_type": "code",
      "metadata": {
        "id": "ckEJzjLeBPvs"
      },
      "source": [
        "dataset = [\n",
        "(\"train\", training_images, train_csv)\n",
        "]"
      ],
      "execution_count": null,
      "outputs": []
    },
    {
      "cell_type": "code",
      "metadata": {
        "id": "IOoOUzufB30x"
      },
      "source": [
        "# initialize set of classes and annotations\n",
        "classes = set()\n",
        "\n",
        "# loop over train and test datasets\n",
        "for (dType, imagePaths, outputCSV) in dataset:\n",
        "\n",
        "    annotations = []\n",
        "    # load the contents\n",
        "    print(\"[INFO] creating '{}' set ...\".format(dType))\n",
        "    print(\"[INFO] {} total images in '{}'\".format(len(imagePaths), dType))\n",
        "\n",
        "    # open the output CSV file\n",
        "    with open(outputCSV, \"w\") as o:\n",
        "        writer = csv.writer(o)\n",
        "\n",
        "        # loop over image paths\n",
        "        for imagePath in imagePaths:\n",
        "            # generate corresponding annotation path\n",
        "            fname = os.path.basename(imagePath).split(\".\")[0]\n",
        "            annotPath = os.path.join(labels, fname + \".xml\")\n",
        "\n",
        "            tree = ET.parse(annotPath)\n",
        "            root = tree.getroot()\n",
        "\n",
        "            # loop over all object elements\n",
        "            for elem in root:\n",
        "                if elem.tag == \"object\":\n",
        "                    obj_name = None\n",
        "                    coords = []\n",
        "                    for subelem in elem:\n",
        "                        # extract all label and bounding box coordinates\n",
        "                        if subelem.tag == \"name\":\n",
        "                            obj_name = subelem.text\n",
        "                        if subelem.tag == \"bndbox\":\n",
        "                            for subsubelem in subelem:\n",
        "                                coords.append(int(float((subsubelem.text))))\n",
        "                            xMin = coords[0]\n",
        "                            yMin = coords[1]\n",
        "                            xMax = coords[2]\n",
        "                            yMax = coords[3]\n",
        "\n",
        "                    # truncate any bounding box corrdinates that fall outside\n",
        "                    # image boundaries\n",
        "                    xMin = max(0, xMin)\n",
        "                    yMin = max(0, yMin)\n",
        "                    xMax = max(0, xMax)\n",
        "                    yMax = max(0, yMax)\n",
        "\n",
        "                    # ignore bounding boxes where min values are larger than\n",
        "                    # max values and vice-versa (annotation errors)\n",
        "                    if xMin >= xMax or yMin >= yMax:\n",
        "                        continue\n",
        "                    elif xMax <= xMin or yMax <= yMin:\n",
        "                        continue\n",
        "\n",
        "                    # gather image path, coordinates, and class for each object on image\n",
        "                    item = [imagePath] + coords + [obj_name]\n",
        "                    # create list of information of all objects in image\n",
        "                    annotations.append(item)\n",
        "                    # write to outputCSV\n",
        "                    writer.writerows(annotations)\n",
        "                    # update set of unique class labels\n",
        "                    classes.add(obj_name)\n",
        "\n",
        "    # write the annotations to file\n",
        "    print(\"[INFO] writing {} annotations ...\".format(dType))\n",
        "    print(\"[INFO] total {} annotations\".format(len(annotations)))\n",
        "    with open(outputCSV, 'w') as f:\n",
        "        writer = csv.writer(f)\n",
        "        writer.writerows(annotations)\n",
        "    print(\"[INFO] {}.csv completed\".format(dType))\n",
        "\n",
        "# write the classes to file\n",
        "print(\"[INFO] writing classes ...\")\n",
        "with open(classes_csv, 'w') as f:\n",
        "    for i, line in enumerate(classes):\n",
        "      f.write('{},{}\\n'.format(line,i))\n",
        "print(\"[INFO] classes.csv completed\")\n",
        "\n",
        "print(\"[FINAL] Task completed!\")"
      ],
      "execution_count": null,
      "outputs": []
    },
    {
      "cell_type": "code",
      "metadata": {
        "id": "xs996z8MPKFc"
      },
      "source": [
        "!python /usr/local/lib/python3.7/dist-packages/keras_retinanet/bin/train.py \\\n",
        "--freeze-backbone \\\n",
        "--random-transform \\\n",
        "--weighted-average \\\n",
        "--batch-size 6 \\\n",
        "--steps 50 \\\n",
        "--epochs 30 csv '/content/data/train.csv' '/content/data/classes.csv'"
      ],
      "execution_count": null,
      "outputs": []
    }
  ]
}